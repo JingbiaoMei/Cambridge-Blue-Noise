{
 "metadata": {
  "language_info": {
   "codemirror_mode": {
    "name": "ipython",
    "version": 3
   },
   "file_extension": ".py",
   "mimetype": "text/x-python",
   "name": "python",
   "nbconvert_exporter": "python",
   "pygments_lexer": "ipython3",
   "version": "3.8.8"
  },
  "orig_nbformat": 2,
  "kernelspec": {
   "name": "python388jvsc74a57bd0f44588ee03369ec776b72994aaf10f4ae4b81bb33f66d38f73ee08777ff4cafe",
   "display_name": "Python 3.8.8 64-bit (conda)"
  }
 },
 "nbformat": 4,
 "nbformat_minor": 2,
 "cells": [
  {
   "cell_type": "code",
   "execution_count": 35,
   "metadata": {},
   "outputs": [],
   "source": [
    "import numpy as np\n",
    "from QAM_EncoderDecoder import * \n",
    "import commpy\n",
    "from scipy.io.wavfile import write, read\n",
    "N = 1024\n",
    "prefix_no = 32\n",
    "Fs = 441000"
   ]
  },
  {
   "source": [
    "## 1. Generate random symbols"
   ],
   "cell_type": "markdown",
   "metadata": {}
  },
  {
   "cell_type": "code",
   "execution_count": 36,
   "metadata": {},
   "outputs": [
    {
     "output_type": "execute_result",
     "data": {
      "text/plain": [
       "array([53, 85, 65, 16, 22, 22, 84, 17, 39, 89, 36, 53])"
      ]
     },
     "metadata": {},
     "execution_count": 36
    }
   ],
   "source": [
    "random_symbol = np.random.randint(0,100, int(50/4))\n",
    "random_symbol"
   ]
  },
  {
   "cell_type": "code",
   "execution_count": 37,
   "metadata": {},
   "outputs": [
    {
     "output_type": "execute_result",
     "data": {
      "text/plain": [
       "'001101010101010101000001000100000001011000010110010101000001000100100111010110010010010000110101'"
      ]
     },
     "metadata": {},
     "execution_count": 37
    }
   ],
   "source": [
    "bin_strings=''\n",
    "for byte in random_symbol:\n",
    "    binary_string = '{0:08b}'.format(byte)\n",
    "    bin_strings+=binary_string\n",
    "bin_strings"
   ]
  },
  {
   "cell_type": "code",
   "execution_count": 38,
   "metadata": {},
   "outputs": [
    {
     "output_type": "stream",
     "name": "stdout",
     "text": [
      "about to do encode_bitstr2symbols encoding\nencode_bitstr2symbols encoding finished\n"
     ]
    },
    {
     "output_type": "execute_result",
     "data": {
      "text/plain": [
       "48"
      ]
     },
     "metadata": {},
     "execution_count": 38
    }
   ],
   "source": [
    "symbols = encode_bitstr2symbols(bin_strings)\n",
    "len(symbols)"
   ]
  },
  {
   "cell_type": "code",
   "execution_count": 47,
   "metadata": {},
   "outputs": [
    {
     "output_type": "stream",
     "name": "stdout",
     "text": [
      "about to do symbol_to_OFDMframes encoding\nsymbol_to_OFDMframes encoding finished\n"
     ]
    },
    {
     "output_type": "execute_result",
     "data": {
      "text/plain": [
       "(1, 1056)"
      ]
     },
     "metadata": {},
     "execution_count": 47
    }
   ],
   "source": [
    "frames = symbol_to_OFDMframes(symbols,N,prefix_no)\n",
    "frames = np.array(np.real(frames))\n",
    "frames.shape\n",
    "#frames = np.ndarray.flatten(np.array(frames))"
   ]
  },
  {
   "source": [
    "fs = 44100  # Sample rate\n",
    "# Save the numpy as wav audio file\n",
    "write('./channel_test/test.wav', fs, frames)"
   ],
   "cell_type": "code",
   "metadata": {},
   "execution_count": 50,
   "outputs": []
  },
  {
   "source": [
    "## 2. Transmitted this signal to the phone and play and record with python"
   ],
   "cell_type": "markdown",
   "metadata": {}
  },
  {
   "cell_type": "code",
   "execution_count": 52,
   "metadata": {},
   "outputs": [],
   "source": [
    "import sounddevice as sd\n",
    "fs = 44100  # Sample rate\n",
    "seconds = 3  # Duration of recording\n",
    "recorded = sd.rec(int(seconds * fs), samplerate=fs, channels=1)\n",
    "sd.wait()"
   ]
  },
  {
   "source": [
    "## 3. Decode the received audio"
   ],
   "cell_type": "markdown",
   "metadata": {}
  },
  {
   "cell_type": "code",
   "execution_count": 84,
   "metadata": {},
   "outputs": [
    {
     "output_type": "execute_result",
     "data": {
      "text/plain": [
       "(132300,)"
      ]
     },
     "metadata": {},
     "execution_count": 84
    }
   ],
   "source": [
    "recorded = np.ndarray.flatten(recorded)\n",
    "recorded.shape"
   ]
  },
  {
   "source": [
    "Add zeros (padding) to make recorded sequence divisible by 1056"
   ],
   "cell_type": "markdown",
   "metadata": {}
  },
  {
   "cell_type": "code",
   "execution_count": 88,
   "metadata": {},
   "outputs": [
    {
     "output_type": "execute_result",
     "data": {
      "text/plain": [
       "(126, 1056)"
      ]
     },
     "metadata": {},
     "execution_count": 88
    }
   ],
   "source": [
    "for i in range(1056 - (len(recorded) % 1056)):\n",
    "    recorded = np.append(recorded, [0])\n",
    "\n",
    "recorded = recorded.reshape((-1,1056))\n",
    "recorded.shape"
   ]
  },
  {
   "cell_type": "code",
   "execution_count": 91,
   "metadata": {},
   "outputs": [
    {
     "output_type": "execute_result",
     "data": {
      "text/plain": [
       "array([[-9.43786621e-01, -1.00000000e+00, -9.76806641e-01, ...,\n",
       "        -9.99847412e-01, -9.99877930e-01, -9.99877930e-01],\n",
       "       [-9.99877930e-01, -9.99877930e-01, -9.99877930e-01, ...,\n",
       "        -9.37042236e-01, -9.36920166e-01, -9.36828613e-01],\n",
       "       [-9.36676025e-01, -9.36553955e-01, -9.36431885e-01, ...,\n",
       "        -8.14361572e-01, -8.14270020e-01, -8.14117432e-01],\n",
       "       ...,\n",
       "       [ 2.44140625e-03,  2.44140625e-03,  2.31933594e-03, ...,\n",
       "         3.78417969e-03,  3.66210938e-03,  3.99780273e-03],\n",
       "       [ 3.78417969e-03,  3.87573242e-03,  3.84521484e-03, ...,\n",
       "        -8.23974609e-04, -7.32421875e-04, -5.49316406e-04],\n",
       "       [-4.57763672e-04, -4.57763672e-04, -4.57763672e-04, ...,\n",
       "         0.00000000e+00,  0.00000000e+00,  0.00000000e+00]])"
      ]
     },
     "metadata": {},
     "execution_count": 91
    }
   ],
   "source": [
    "recorded"
   ]
  },
  {
   "cell_type": "code",
   "execution_count": null,
   "metadata": {},
   "outputs": [],
   "source": []
  }
 ]
}