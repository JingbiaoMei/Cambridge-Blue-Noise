{
 "metadata": {
  "language_info": {
   "codemirror_mode": {
    "name": "ipython",
    "version": 3
   },
   "file_extension": ".py",
   "mimetype": "text/x-python",
   "name": "python",
   "nbconvert_exporter": "python",
   "pygments_lexer": "ipython3",
   "version": "3.8.8"
  },
  "orig_nbformat": 2,
  "kernelspec": {
   "name": "python388jvsc74a57bd0f44588ee03369ec776b72994aaf10f4ae4b81bb33f66d38f73ee08777ff4cafe",
   "display_name": "Python 3.8.8 64-bit (conda)"
  }
 },
 "nbformat": 4,
 "nbformat_minor": 2,
 "cells": [
  {
   "cell_type": "code",
   "execution_count": 1,
   "metadata": {},
   "outputs": [],
   "source": [
    "import numpy as np\n",
    "from QAM_EncoderDecoder import * \n",
    "import commpy\n",
    "from scipy.io.wavfile import write, read\n",
    "N = 1024\n",
    "prefix_no = 32\n",
    "Fs = 441000"
   ]
  },
  {
   "source": [
    "## 1. Generate random symbols"
   ],
   "cell_type": "markdown",
   "metadata": {}
  },
  {
   "cell_type": "code",
   "execution_count": 2,
   "metadata": {},
   "outputs": [
    {
     "output_type": "execute_result",
     "data": {
      "text/plain": [
       "array([19, 86,  9,  2,  4,  0, 36, 19, 73, 17, 49, 88])"
      ]
     },
     "metadata": {},
     "execution_count": 2
    }
   ],
   "source": [
    "random_symbol = np.random.randint(0,100, int(50/4))\n",
    "random_symbol"
   ]
  },
  {
   "cell_type": "code",
   "execution_count": 3,
   "metadata": {},
   "outputs": [
    {
     "output_type": "execute_result",
     "data": {
      "text/plain": [
       "'000100110101011000001001000000100000010000000000001001000001001101001001000100010011000101011000'"
      ]
     },
     "metadata": {},
     "execution_count": 3
    }
   ],
   "source": [
    "bin_strings=''\n",
    "for byte in random_symbol:\n",
    "    binary_string = '{0:08b}'.format(byte)\n",
    "    bin_strings+=binary_string\n",
    "bin_strings"
   ]
  },
  {
   "cell_type": "code",
   "execution_count": 4,
   "metadata": {},
   "outputs": [
    {
     "output_type": "stream",
     "name": "stdout",
     "text": [
      "about to do encode_bitstr2symbols encoding\nencode_bitstr2symbols encoding finished\n"
     ]
    },
    {
     "output_type": "execute_result",
     "data": {
      "text/plain": [
       "48"
      ]
     },
     "metadata": {},
     "execution_count": 4
    }
   ],
   "source": [
    "symbols = encode_bitstr2symbols(bin_strings)\n",
    "len(symbols)"
   ]
  },
  {
   "cell_type": "code",
   "execution_count": 12,
   "metadata": {},
   "outputs": [
    {
     "output_type": "execute_result",
     "data": {
      "text/plain": [
       "[(1+1j),\n",
       " (-1+1j),\n",
       " (1+1j),\n",
       " (-1-1j),\n",
       " (-1+1j),\n",
       " (-1+1j),\n",
       " (-1+1j),\n",
       " (1-1j),\n",
       " (1+1j),\n",
       " (1+1j)]"
      ]
     },
     "metadata": {},
     "execution_count": 12
    }
   ],
   "source": [
    "symbols[:10]"
   ]
  },
  {
   "cell_type": "code",
   "execution_count": 6,
   "metadata": {},
   "outputs": [
    {
     "output_type": "stream",
     "name": "stdout",
     "text": [
      "about to do symbol_to_OFDMframes encoding\nsymbol_to_OFDMframes encoding finished\n"
     ]
    },
    {
     "output_type": "execute_result",
     "data": {
      "text/plain": [
       "(1, 1056)"
      ]
     },
     "metadata": {},
     "execution_count": 6
    }
   ],
   "source": [
    "frames = symbol_to_OFDMframes(symbols,N,prefix_no)\n",
    "frames = np.array(np.real(frames))\n",
    "frames.shape\n",
    "#frames = np.ndarray.flatten(np.array(frames))"
   ]
  },
  {
   "source": [
    "fs = 44100  # Sample rate\n",
    "# Save the numpy as wav audio file\n",
    "write('./channel_test/test.wav', fs, frames)"
   ],
   "cell_type": "code",
   "metadata": {},
   "execution_count": 7,
   "outputs": []
  },
  {
   "source": [
    "## 2. Transmitted this signal to the phone and play and record with python"
   ],
   "cell_type": "markdown",
   "metadata": {}
  },
  {
   "cell_type": "code",
   "execution_count": 8,
   "metadata": {},
   "outputs": [],
   "source": [
    "import sounddevice as sd\n",
    "fs = 44100  # Sample rate\n",
    "seconds = 3  # Duration of recording\n",
    "recorded = sd.rec(int(seconds * fs), samplerate=fs, channels=1)\n",
    "sd.wait()"
   ]
  },
  {
   "source": [
    "## 3. Decode the received audio"
   ],
   "cell_type": "markdown",
   "metadata": {}
  },
  {
   "cell_type": "code",
   "execution_count": 9,
   "metadata": {},
   "outputs": [
    {
     "output_type": "execute_result",
     "data": {
      "text/plain": [
       "(132300,)"
      ]
     },
     "metadata": {},
     "execution_count": 9
    }
   ],
   "source": [
    "recorded = np.ndarray.flatten(recorded)\n",
    "recorded.shape"
   ]
  },
  {
   "source": [
    "Add zeros (padding) to make recorded sequence divisible by 1056"
   ],
   "cell_type": "markdown",
   "metadata": {}
  },
  {
   "cell_type": "code",
   "execution_count": 10,
   "metadata": {},
   "outputs": [
    {
     "output_type": "execute_result",
     "data": {
      "text/plain": [
       "(126, 1056)"
      ]
     },
     "metadata": {},
     "execution_count": 10
    }
   ],
   "source": [
    "for i in range(1056 - (len(recorded) % 1056)):\n",
    "    recorded = np.append(recorded, [0])\n",
    "\n",
    "recorded = recorded.reshape((-1,1056))\n",
    "recorded.shape"
   ]
  },
  {
   "cell_type": "code",
   "execution_count": 11,
   "metadata": {},
   "outputs": [
    {
     "output_type": "execute_result",
     "data": {
      "text/plain": [
       "array([ 0.36801147+0.j        ,  0.26756435-0.21303013j,\n",
       "        0.06621145-0.26453167j, ..., -0.06343737+0.1713349j ,\n",
       "        0.06621145+0.26453167j,  0.26756435+0.21303013j])"
      ]
     },
     "metadata": {},
     "execution_count": 11
    }
   ],
   "source": [
    "OFDMframes_to_constellation(recorded,N,prefix_no)"
   ]
  },
  {
   "source": [
    "#### 3.1 Divide by the transmitted constellation "
   ],
   "cell_type": "markdown",
   "metadata": {}
  },
  {
   "cell_type": "code",
   "execution_count": null,
   "metadata": {},
   "outputs": [],
   "source": [
    "# TODo Requires sync\n",
    "synced = "
   ]
  },
  {
   "cell_type": "code",
   "execution_count": null,
   "metadata": {},
   "outputs": [],
   "source": [
    "channel_response_frequency = synced / symbols"
   ]
  },
  {
   "source": [
    "### 4. Take iDFT to get the channel impulse response"
   ],
   "cell_type": "markdown",
   "metadata": {}
  }
 ]
}