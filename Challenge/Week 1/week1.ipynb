{
 "metadata": {
  "language_info": {
   "codemirror_mode": {
    "name": "ipython",
    "version": 3
   },
   "file_extension": ".py",
   "mimetype": "text/x-python",
   "name": "python",
   "nbconvert_exporter": "python",
   "pygments_lexer": "ipython3",
   "version": "3.7.4"
  },
  "orig_nbformat": 2,
  "kernelspec": {
   "name": "python374jvsc74a57bd0b3ba2566441a7c06988d0923437866b63cedc61552a5af99d1f4fb67d367b25f",
   "display_name": "Python 3.7.4 64-bit ('base': conda)"
  }
 },
 "nbformat": 4,
 "nbformat_minor": 2,
 "cells": [
  {
   "source": [
    "# Week 1 Challenge \n",
    "Guess the data from a given received signal file and FIR of the channel \n",
    "\n",
    "Parameters:\n",
    "- Constellations:\n",
    "    - Bytes were mapped to QPSK constellations 2 bits at a time  (00, 01, 11, 10)\n",
    "- IDFT:\n",
    "    - size of 1024\n",
    "    - Cyclic prefix of length 32\n",
    "    - 2 bit groups were added at the end of the data to complete an integer factor of 511\n",
    "    - the resulting blocks of 1056 values were concatenated into one long signal\n"
   ],
   "cell_type": "markdown",
   "metadata": {}
  },
  {
   "source": [
    "### 0.1 Import Library"
   ],
   "cell_type": "markdown",
   "metadata": {}
  },
  {
   "cell_type": "code",
   "execution_count": 11,
   "metadata": {},
   "outputs": [],
   "source": [
    "import pandas as pd\n",
    "import numpy as np"
   ]
  },
  {
   "cell_type": "code",
   "execution_count": null,
   "metadata": {},
   "outputs": [],
   "source": []
  },
  {
   "source": [
    "### 1.1 Import channel and files"
   ],
   "cell_type": "markdown",
   "metadata": {}
  },
  {
   "cell_type": "code",
   "execution_count": 44,
   "metadata": {},
   "outputs": [],
   "source": [
    "FIR = np.genfromtxt('channel.csv', delimiter=',')"
   ]
  },
  {
   "cell_type": "code",
   "execution_count": 45,
   "metadata": {},
   "outputs": [],
   "source": [
    "file1 = np.genfromtxt(\"file1.csv\", delimiter=',')"
   ]
  },
  {
   "source": [
    "### 1.2 Check the length of the file"
   ],
   "cell_type": "markdown",
   "metadata": {}
  },
  {
   "cell_type": "code",
   "execution_count": 46,
   "metadata": {},
   "outputs": [
    {
     "output_type": "execute_result",
     "data": {
      "text/plain": [
       "1003200"
      ]
     },
     "metadata": {},
     "execution_count": 46
    }
   ],
   "source": [
    "len(file1)"
   ]
  },
  {
   "cell_type": "code",
   "execution_count": 32,
   "metadata": {},
   "outputs": [
    {
     "output_type": "execute_result",
     "data": {
      "text/plain": [
       "950.0"
      ]
     },
     "metadata": {},
     "execution_count": 32
    }
   ],
   "source": [
    "len(file1)/(1024+32)"
   ]
  },
  {
   "source": [
    "### 2. Remove Cyclic Prefix"
   ],
   "cell_type": "markdown",
   "metadata": {}
  },
  {
   "source": [
    "#### 2.1 First transform the 1D array into 2D array \n",
    "    \n",
    "    where each row is of 1056 long and there is 950 such rows"
   ],
   "cell_type": "markdown",
   "metadata": {}
  },
  {
   "cell_type": "code",
   "execution_count": 47,
   "metadata": {},
   "outputs": [],
   "source": [
    "file1_2d = file1.reshape(-1,1056)"
   ]
  },
  {
   "cell_type": "code",
   "execution_count": 48,
   "metadata": {},
   "outputs": [
    {
     "output_type": "execute_result",
     "data": {
      "text/plain": [
       "(950, 1056)"
      ]
     },
     "metadata": {},
     "execution_count": 48
    }
   ],
   "source": [
    "file1_2d.shape"
   ]
  },
  {
   "source": [
    "#### 2.2 remove cyclic prefix\n",
    "    Equivalent to delte columns from index 1024 to 1055(last)"
   ],
   "cell_type": "markdown",
   "metadata": {}
  },
  {
   "cell_type": "code",
   "execution_count": 58,
   "metadata": {},
   "outputs": [
    {
     "output_type": "execute_result",
     "data": {
      "text/plain": [
       "array([1024, 1025, 1026, 1027, 1028, 1029, 1030, 1031, 1032, 1033, 1034,\n",
       "       1035, 1036, 1037, 1038, 1039, 1040, 1041, 1042, 1043, 1044, 1045,\n",
       "       1046, 1047, 1048, 1049, 1050, 1051, 1052, 1053, 1054, 1055])"
      ]
     },
     "metadata": {},
     "execution_count": 58
    }
   ],
   "source": [
    "remove = np.arange(32) + 1024\n",
    "remove"
   ]
  },
  {
   "cell_type": "code",
   "execution_count": 59,
   "metadata": {},
   "outputs": [],
   "source": [
    "file1_without_cp = np.delete(file1_2d,remove,axis=1)"
   ]
  },
  {
   "cell_type": "code",
   "execution_count": 60,
   "metadata": {},
   "outputs": [
    {
     "output_type": "execute_result",
     "data": {
      "text/plain": [
       "(950, 1024)"
      ]
     },
     "metadata": {},
     "execution_count": 60
    }
   ],
   "source": [
    "file1_without_cp.shape"
   ]
  },
  {
   "source": [
    "### 3. Apply DFT"
   ],
   "cell_type": "markdown",
   "metadata": {}
  },
  {
   "cell_type": "code",
   "execution_count": 61,
   "metadata": {},
   "outputs": [],
   "source": [
    "file1_dft = np.array( [np.fft.fft(file1_without_cp[i,:]) for i in range(file1_without_cp.shape[0]) ] ) "
   ]
  },
  {
   "cell_type": "code",
   "execution_count": 62,
   "metadata": {},
   "outputs": [
    {
     "output_type": "execute_result",
     "data": {
      "text/plain": [
       "(950, 1024)"
      ]
     },
     "metadata": {},
     "execution_count": 62
    }
   ],
   "source": [
    "file1_dft.shape"
   ]
  },
  {
   "source": [
    "#### 4. Apply channel equalization "
   ],
   "cell_type": "markdown",
   "metadata": {}
  },
  {
   "cell_type": "code",
   "execution_count": 63,
   "metadata": {},
   "outputs": [],
   "source": [
    "H = np.fft.fft(FIR, 1024) # impulse response of the channel"
   ]
  },
  {
   "cell_type": "code",
   "execution_count": 75,
   "metadata": {},
   "outputs": [],
   "source": [
    "Equalized_output = file1_dft / H"
   ]
  },
  {
   "cell_type": "code",
   "execution_count": null,
   "metadata": {},
   "outputs": [],
   "source": []
  }
 ]
}