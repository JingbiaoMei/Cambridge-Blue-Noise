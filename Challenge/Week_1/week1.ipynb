{
 "metadata": {
  "language_info": {
   "codemirror_mode": {
    "name": "ipython",
    "version": 3
   },
   "file_extension": ".py",
   "mimetype": "text/x-python",
   "name": "python",
   "nbconvert_exporter": "python",
   "pygments_lexer": "ipython3",
   "version": "3.8.8"
  },
  "orig_nbformat": 2,
  "kernelspec": {
   "name": "python388jvsc74a57bd0f44588ee03369ec776b72994aaf10f4ae4b81bb33f66d38f73ee08777ff4cafe",
   "display_name": "Python 3.8.8 64-bit (conda)"
  }
 },
 "nbformat": 4,
 "nbformat_minor": 2,
 "cells": [
  {
   "source": [
    "# Week 1 Challenge \n",
    "Guess the data from a given received signal file and FIR of the channel \n",
    "\n",
    "Parameters:\n",
    "- Constellations:\n",
    "    - Bytes were mapped to QPSK constellations 2 bits at a time  (00, 01, 11, 10)\n",
    "- IDFT:\n",
    "    - size of 1024\n",
    "    - Cyclic prefix of length 32\n",
    "    - 2 bit groups were added at the end of the data to complete an integer factor of 511\n",
    "    - the resulting blocks of 1056 values were concatenated into one long signal\n"
   ],
   "cell_type": "markdown",
   "metadata": {}
  },
  {
   "source": [
    "### 0.1 Import Library"
   ],
   "cell_type": "markdown",
   "metadata": {}
  },
  {
   "cell_type": "code",
   "execution_count": 1,
   "metadata": {},
   "outputs": [],
   "source": [
    "import pandas as pd\n",
    "import numpy as np"
   ]
  },
  {
   "cell_type": "code",
   "execution_count": null,
   "metadata": {},
   "outputs": [],
   "source": []
  },
  {
   "source": [
    "### 1.1 Import channel and files"
   ],
   "cell_type": "markdown",
   "metadata": {}
  },
  {
   "cell_type": "code",
   "execution_count": 2,
   "metadata": {},
   "outputs": [],
   "source": [
    "FIR = np.genfromtxt('channel.csv', delimiter=',')"
   ]
  },
  {
   "cell_type": "code",
   "execution_count": 3,
   "metadata": {},
   "outputs": [],
   "source": [
    "file1 = np.genfromtxt(\"file1.csv\", delimiter=',')"
   ]
  },
  {
   "source": [
    "### 1.2 Check the length of the file"
   ],
   "cell_type": "markdown",
   "metadata": {}
  },
  {
   "cell_type": "code",
   "execution_count": 4,
   "metadata": {},
   "outputs": [
    {
     "output_type": "execute_result",
     "data": {
      "text/plain": [
       "1003200"
      ]
     },
     "metadata": {},
     "execution_count": 4
    }
   ],
   "source": [
    "len(file1)"
   ]
  },
  {
   "cell_type": "code",
   "execution_count": 5,
   "metadata": {},
   "outputs": [
    {
     "output_type": "execute_result",
     "data": {
      "text/plain": [
       "950.0"
      ]
     },
     "metadata": {},
     "execution_count": 5
    }
   ],
   "source": [
    "len(file1)/(1024+32)"
   ]
  },
  {
   "source": [
    "### 2. Remove Cyclic Prefix"
   ],
   "cell_type": "markdown",
   "metadata": {}
  },
  {
   "source": [
    "#### 2.1 First transform the 1D array into 2D array \n",
    "    \n",
    "    where each row is of 1056 long and there is 950 such rows"
   ],
   "cell_type": "markdown",
   "metadata": {}
  },
  {
   "cell_type": "code",
   "execution_count": 6,
   "metadata": {},
   "outputs": [],
   "source": [
    "file1_2d = file1.reshape(-1,1056)"
   ]
  },
  {
   "cell_type": "code",
   "execution_count": 7,
   "metadata": {},
   "outputs": [
    {
     "output_type": "execute_result",
     "data": {
      "text/plain": [
       "(950, 1056)"
      ]
     },
     "metadata": {},
     "execution_count": 7
    }
   ],
   "source": [
    "file1_2d.shape"
   ]
  },
  {
   "source": [
    "#### 2.2 remove cyclic prefix\n",
    "    Equivalent to delte columns from index 1024 to 1055(last)"
   ],
   "cell_type": "markdown",
   "metadata": {}
  },
  {
   "cell_type": "code",
   "execution_count": 8,
   "metadata": {},
   "outputs": [
    {
     "output_type": "execute_result",
     "data": {
      "text/plain": [
       "array([1024, 1025, 1026, 1027, 1028, 1029, 1030, 1031, 1032, 1033, 1034,\n",
       "       1035, 1036, 1037, 1038, 1039, 1040, 1041, 1042, 1043, 1044, 1045,\n",
       "       1046, 1047, 1048, 1049, 1050, 1051, 1052, 1053, 1054, 1055])"
      ]
     },
     "metadata": {},
     "execution_count": 8
    }
   ],
   "source": [
    "remove = np.arange(32) + 1024\n",
    "remove"
   ]
  },
  {
   "cell_type": "code",
   "execution_count": 9,
   "metadata": {},
   "outputs": [],
   "source": [
    "file1_without_cp = np.delete(file1_2d,remove,axis=1)"
   ]
  },
  {
   "cell_type": "code",
   "execution_count": 10,
   "metadata": {},
   "outputs": [
    {
     "output_type": "execute_result",
     "data": {
      "text/plain": [
       "(950, 1024)"
      ]
     },
     "metadata": {},
     "execution_count": 10
    }
   ],
   "source": [
    "file1_without_cp.shape"
   ]
  },
  {
   "source": [
    "### 3. Apply DFT"
   ],
   "cell_type": "markdown",
   "metadata": {}
  },
  {
   "cell_type": "code",
   "execution_count": 11,
   "metadata": {},
   "outputs": [],
   "source": [
    "file1_dft = np.array( [np.fft.fft(file1_without_cp[i,:]) for i in range(file1_without_cp.shape[0]) ] ) "
   ]
  },
  {
   "cell_type": "code",
   "execution_count": 12,
   "metadata": {},
   "outputs": [
    {
     "output_type": "execute_result",
     "data": {
      "text/plain": [
       "(950, 1024)"
      ]
     },
     "metadata": {},
     "execution_count": 12
    }
   ],
   "source": [
    "file1_dft.shape"
   ]
  },
  {
   "source": [
    "#### 4. Apply channel equalization "
   ],
   "cell_type": "markdown",
   "metadata": {}
  },
  {
   "cell_type": "code",
   "execution_count": 29,
   "metadata": {},
   "outputs": [],
   "source": [
    "# impulse response of the channel\n",
    "channel_fft = np.fft.fft(FIR, 1024)"
   ]
  },
  {
   "cell_type": "code",
   "execution_count": 30,
   "metadata": {},
   "outputs": [],
   "source": [
    "Equalized_output = file1_dft / H"
   ]
  },
  {
   "cell_type": "code",
   "execution_count": 31,
   "metadata": {},
   "outputs": [],
   "source": [
    "out = Equalized_output"
   ]
  },
  {
   "source": [
    "### 5. Maximum likelihood estimate for constellations\n",
    "\n",
    "$$(0,0) \\rightarrow  1+1j$$\n",
    "\n",
    "$$(0,1) \\rightarrow  -1+1j$$\n",
    "\n",
    "$$(1,1) \\rightarrow  -1+-1j$$\n",
    "\n",
    "$$(1,0) \\rightarrow  1-1j$$"
   ],
   "cell_type": "markdown",
   "metadata": {}
  },
  {
   "cell_type": "code",
   "execution_count": 32,
   "metadata": {},
   "outputs": [
    {
     "output_type": "stream",
     "name": "stdout",
     "text": [
      "(950, 1024)\n"
     ]
    }
   ],
   "source": [
    "ofdm_frames = out\n",
    "print(ofdm_frames.shape)\n",
    "data = ''\n",
    "prefix = 32\n",
    "N = 1024\n",
    "for i in range(len(ofdm_frames)):\n",
    "    frame_prefix = ofdm_frames[i][prefix:] # remove cp\n",
    "    frame_dft = np.fft.fft(frame_prefix, n=N) # \n",
    "    for i in range(1, 512): # only useful info bits 1-511\n",
    "        element = frame_dft[i] / channel_fft[i]\n",
    "        if np.real(element) >= 0:\n",
    "            if np.imag(element) >= 0:\n",
    "                data += '00'\n",
    "            else:\n",
    "                data += '10'\n",
    "        else:\n",
    "            if np.imag(element) >= 0:\n",
    "                data += '01'\n",
    "            else:\n",
    "                data += '11'"
   ]
  },
  {
   "cell_type": "code",
   "execution_count": 34,
   "metadata": {},
   "outputs": [
    {
     "output_type": "execute_result",
     "data": {
      "text/plain": [
       "970900"
      ]
     },
     "metadata": {},
     "execution_count": 34
    }
   ],
   "source": [
    "len(data)"
   ]
  },
  {
   "cell_type": "code",
   "execution_count": 36,
   "metadata": {},
   "outputs": [
    {
     "output_type": "execute_result",
     "data": {
      "text/plain": [
       "1900"
      ]
     },
     "metadata": {},
     "execution_count": 36
    }
   ],
   "source": [
    "950*1024 - 970900"
   ]
  },
  {
   "cell_type": "code",
   "execution_count": 37,
   "metadata": {},
   "outputs": [
    {
     "output_type": "execute_result",
     "data": {
      "text/plain": [
       "1003200"
      ]
     },
     "metadata": {},
     "execution_count": 37
    }
   ],
   "source": [
    "1003200"
   ]
  },
  {
   "cell_type": "code",
   "execution_count": 38,
   "metadata": {},
   "outputs": [
    {
     "output_type": "execute_result",
     "data": {
      "text/plain": [
       "32300"
      ]
     },
     "metadata": {},
     "execution_count": 38
    }
   ],
   "source": [
    "1003200 - 970900"
   ]
  },
  {
   "cell_type": "code",
   "execution_count": 40,
   "metadata": {},
   "outputs": [],
   "source": [
    "from bitarray import bitarray\n",
    "\n",
    "data_bytes = bitarray(data)"
   ]
  },
  {
   "cell_type": "code",
   "execution_count": 41,
   "metadata": {},
   "outputs": [
    {
     "output_type": "execute_result",
     "data": {
      "text/plain": [
       "970900"
      ]
     },
     "metadata": {},
     "execution_count": 41
    }
   ],
   "source": [
    "len(data_bytes)"
   ]
  },
  {
   "cell_type": "code",
   "execution_count": 43,
   "metadata": {},
   "outputs": [
    {
     "output_type": "execute_result",
     "data": {
      "text/plain": [
       "121363"
      ]
     },
     "metadata": {},
     "execution_count": 43
    }
   ],
   "source": [
    "len(data_bytes.tobytes()[:])"
   ]
  },
  {
   "cell_type": "code",
   "execution_count": null,
   "metadata": {},
   "outputs": [],
   "source": []
  }
 ]
}