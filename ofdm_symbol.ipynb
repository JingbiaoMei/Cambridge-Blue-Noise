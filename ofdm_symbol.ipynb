{
 "metadata": {
  "language_info": {
   "codemirror_mode": {
    "name": "ipython",
    "version": 3
   },
   "file_extension": ".py",
   "mimetype": "text/x-python",
   "name": "python",
   "nbconvert_exporter": "python",
   "pygments_lexer": "ipython3",
   "version": "3.8.8"
  },
  "orig_nbformat": 2,
  "kernelspec": {
   "name": "python388jvsc74a57bd0f44588ee03369ec776b72994aaf10f4ae4b81bb33f66d38f73ee08777ff4cafe",
   "display_name": "Python 3.8.8 64-bit (conda)"
  }
 },
 "nbformat": 4,
 "nbformat_minor": 2,
 "cells": [
  {
   "cell_type": "code",
   "execution_count": 1,
   "metadata": {},
   "outputs": [],
   "source": [
    "import numpy as np\n",
    "from QAM_EncoderDecoder import * \n",
    "import commpy\n",
    "N = 1024\n",
    "prefix_no = 32\n",
    "Fs = 441000"
   ]
  },
  {
   "cell_type": "code",
   "execution_count": 2,
   "metadata": {},
   "outputs": [
    {
     "output_type": "execute_result",
     "data": {
      "text/plain": [
       "array([44, 67,  6, 17,  8, 63, 72, 36, 22, 46, 16, 69])"
      ]
     },
     "metadata": {},
     "execution_count": 2
    }
   ],
   "source": [
    "random_symbol = np.random.randint(0,100, int(50/4))\n",
    "random_symbol"
   ]
  },
  {
   "cell_type": "code",
   "execution_count": 3,
   "metadata": {},
   "outputs": [
    {
     "output_type": "execute_result",
     "data": {
      "text/plain": [
       "'001011000100001100000110000100010000100000111111010010000010010000010110001011100001000001000101'"
      ]
     },
     "metadata": {},
     "execution_count": 3
    }
   ],
   "source": [
    "bin_strings=''\n",
    "for byte in random_symbol:\n",
    "    binary_string = '{0:08b}'.format(byte)\n",
    "    bin_strings+=binary_string\n",
    "bin_strings"
   ]
  },
  {
   "cell_type": "code",
   "execution_count": 4,
   "metadata": {},
   "outputs": [
    {
     "output_type": "stream",
     "name": "stdout",
     "text": [
      "about to do encode_bitstr2symbols encoding\nencode_bitstr2symbols encoding finished\n"
     ]
    },
    {
     "output_type": "execute_result",
     "data": {
      "text/plain": [
       "48"
      ]
     },
     "metadata": {},
     "execution_count": 4
    }
   ],
   "source": [
    "symbols = encode_bitstr2symbols(bin_strings)\n",
    "len(symbols)"
   ]
  },
  {
   "cell_type": "code",
   "execution_count": 5,
   "metadata": {},
   "outputs": [
    {
     "output_type": "stream",
     "name": "stdout",
     "text": [
      "about to do symbol_to_OFDMframes encoding\nsymbol_to_OFDMframes encoding finished\n"
     ]
    }
   ],
   "source": [
    "frames = symbol_to_OFDMframes(symbols,N,prefix_no)"
   ]
  },
  {
   "source": [
    "``commpy.filters.rrcosfilter``\n",
    "\n",
    "https://commpy.readthedocs.io/en/latest/generated/commpy.filters.rrcosfilter.html\n",
    "\n",
    "\n",
    "- N (int) – Length of the filter in samples.\n",
    "- alpha (float) – Roll off factor (Valid values are [0, 1]).\n",
    "- Ts (float) – Symbol period in seconds.\n",
    "- Fs (float) – Sampling Rate in Hz."
   ],
   "cell_type": "markdown",
   "metadata": {}
  },
  {
   "cell_type": "code",
   "execution_count": 10,
   "metadata": {},
   "outputs": [],
   "source": [
    "alpha = 0.5\n",
    "Ts = 48 / Fs\n",
    "pulse = np.array(commpy.filters.rrcosfilter(N, alpha, Ts, Fs)[1][100:])\n",
    "baseband_signal = np.convolve(np.ndarray.flatten(np.array(frames)), pulse) "
   ]
  },
  {
   "cell_type": "code",
   "execution_count": null,
   "metadata": {},
   "outputs": [],
   "source": []
  }
 ]
}