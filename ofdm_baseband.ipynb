{
 "metadata": {
  "language_info": {
   "codemirror_mode": {
    "name": "ipython",
    "version": 3
   },
   "file_extension": ".py",
   "mimetype": "text/x-python",
   "name": "python",
   "nbconvert_exporter": "python",
   "pygments_lexer": "ipython3",
   "version": "3.8.8"
  },
  "orig_nbformat": 2,
  "kernelspec": {
   "name": "python388jvsc74a57bd0f44588ee03369ec776b72994aaf10f4ae4b81bb33f66d38f73ee08777ff4cafe",
   "display_name": "Python 3.8.8 64-bit (conda)"
  }
 },
 "nbformat": 4,
 "nbformat_minor": 2,
 "cells": [
  {
   "cell_type": "code",
   "execution_count": 1,
   "metadata": {},
   "outputs": [
    {
     "output_type": "stream",
     "name": "stdout",
     "text": [
      "about to do encode_bitstr2symbols encoding\n",
      "encode_bitstr2symbols encoding finished\n",
      "about to do symbol_to_OFDMframes encoding\n",
      "symbol_to_OFDMframes encoding finished\n"
     ]
    }
   ],
   "source": [
    "\n",
    "import numpy as np\n",
    "from QAM_EncoderDecoder import * \n",
    "import commpy\n",
    "N = 1024\n",
    "prefix_no = 32\n",
    "Fs = 441000\n",
    "filename='input.png'\n",
    "bits=file_to_bitstr(filename)\n",
    "symbols = encode_bitstr2symbols(bits)\n",
    "frames = symbol_to_OFDMframes(symbols,N,prefix_no)\n",
    "frames = np.ndarray.flatten(np.array(frames))\n"
   ]
  },
  {
   "source": [
    "Generate Baseband Signal with root raised cosine pulse with scikit-commpy package\n",
    "\n",
    "``commpy.filters.rrcosfilter``\n",
    "\n",
    "https://commpy.readthedocs.io/en/latest/generated/commpy.filters.rrcosfilter.html\n",
    "\n",
    "\n",
    "- N (int) – Length of the filter in samples.\n",
    "- alpha (float) – Roll off factor (Valid values are [0, 1]).\n",
    "- Ts (float) – Symbol period in seconds.\n",
    "- Fs (float) – Sampling Rate in Hz."
   ],
   "cell_type": "markdown",
   "metadata": {}
  },
  {
   "cell_type": "code",
   "execution_count": 2,
   "metadata": {},
   "outputs": [
    {
     "output_type": "execute_result",
     "data": {
      "text/plain": [
       "(924,)"
      ]
     },
     "metadata": {},
     "execution_count": 2
    }
   ],
   "source": [
    "alpha = 0.5\n",
    "Ts = 48 / Fs\n",
    "pulse = np.array(commpy.filters.rrcosfilter(N, alpha, Ts, Fs)[1][100:])\n",
    "pulse.shape\n"
   ]
  },
  {
   "cell_type": "code",
   "execution_count": 3,
   "metadata": {},
   "outputs": [
    {
     "output_type": "stream",
     "name": "stdout",
     "text": [
      "(924,) (4468992,)\n"
     ]
    }
   ],
   "source": [
    "print(pulse.shape, np.shape(frames))\n",
    "baseband_signal = np.convolve(frames, pulse) "
   ]
  },
  {
   "cell_type": "code",
   "execution_count": 4,
   "metadata": {},
   "outputs": [
    {
     "output_type": "execute_result",
     "data": {
      "text/plain": [
       "array([ 1.13795292e-04,  2.00275969e-04,  3.81600533e-04, ...,\n",
       "       -1.24306439e-04, -9.40443917e-05, -4.69487166e-05])"
      ]
     },
     "metadata": {},
     "execution_count": 4
    }
   ],
   "source": [
    "baseband_signal = np.real(baseband_signal)\n",
    "baseband_signal"
   ]
  },
  {
   "cell_type": "code",
   "execution_count": 5,
   "metadata": {},
   "outputs": [
    {
     "output_type": "execute_result",
     "data": {
      "text/plain": [
       "4469915"
      ]
     },
     "metadata": {},
     "execution_count": 5
    }
   ],
   "source": [
    "len(baseband_signal)"
   ]
  },
  {
   "cell_type": "code",
   "execution_count": 9,
   "metadata": {},
   "outputs": [],
   "source": [
    "from scipy.io.wavfile import write, read\n",
    "\n",
    "fs = 44100  # Sample rate\n",
    "# Save the numpy as wav audio file\n",
    "write('baseband.wav', fs, baseband_signal)"
   ]
  },
  {
   "cell_type": "code",
   "execution_count": null,
   "metadata": {},
   "outputs": [],
   "source": []
  }
 ]
}