{
 "metadata": {
  "language_info": {
   "codemirror_mode": {
    "name": "ipython",
    "version": 3
   },
   "file_extension": ".py",
   "mimetype": "text/x-python",
   "name": "python",
   "nbconvert_exporter": "python",
   "pygments_lexer": "ipython3",
   "version": "3.8.5"
  },
  "orig_nbformat": 2,
  "kernelspec": {
   "name": "python385jvsc74a57bd0916dbcbb3f70747c44a77c7bcd40155683ae19c65e1c03b4aa3499c5328201f1",
   "display_name": "Python 3.8.5 64-bit"
  },
  "metadata": {
   "interpreter": {
    "hash": "916dbcbb3f70747c44a77c7bcd40155683ae19c65e1c03b4aa3499c5328201f1"
   }
  }
 },
 "nbformat": 4,
 "nbformat_minor": 2,
 "cells": [
  {
   "cell_type": "code",
   "execution_count": 3,
   "metadata": {},
   "outputs": [],
   "source": [
    "import numpy as np\n",
    "import soundfile as sf\n",
    "def define_chirp(sec=1):\n",
    "    \"\"\"returns standard log chirp waveform and its time-reverse\"\"\"\n",
    "    \n",
    "    k = 50\n",
    "    w1 = 100\n",
    "    w2 = 10000\n",
    "    \n",
    "    t = np.linspace(0, sec, int(44100*sec))\n",
    "    \n",
    "    ch = np.sin(2*np.pi*sec*w1*(((w2/w1)**(t/sec)-1)/(np.log(w2/w1))))*(1-np.e**(-k*t))*(1-np.e**(k*(t-sec))) # analytical form\n",
    "    \n",
    "    ch /= 5 # scale so roughly same 'height' as OFDM blocks\n",
    "    \n",
    "    inv_ch = np.flip(ch)\n",
    "    \n",
    "    return ch, inv_ch"
   ]
  },
  {
   "cell_type": "code",
   "execution_count": 6,
   "metadata": {},
   "outputs": [],
   "source": [
    "ch, inv_ch = define_chirp(0.2)\n",
    "gap = np.zeros(int(0.1*44100))\n",
    "tx_waveform =  np.concatenate((gap, ch,inv_ch,ch,inv_ch,ch,inv_ch,gap),axis=None)"
   ]
  },
  {
   "cell_type": "code",
   "execution_count": 7,
   "metadata": {},
   "outputs": [],
   "source": [
    "filename = 'gp2_sound.wav'\n",
    "sf.write(filename, tx_waveform, 44100)"
   ]
  },
  {
   "cell_type": "code",
   "execution_count": null,
   "metadata": {},
   "outputs": [],
   "source": []
  }
 ]
}