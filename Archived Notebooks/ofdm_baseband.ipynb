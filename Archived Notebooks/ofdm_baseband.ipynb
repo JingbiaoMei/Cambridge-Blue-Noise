{
 "cells": [
  {
   "cell_type": "code",
   "execution_count": 9,
   "metadata": {},
   "outputs": [
    {
     "name": "stdout",
     "output_type": "stream",
     "text": [
      "about to do encode_bitstr2symbols encoding\n",
      "encode_bitstr2symbols encoding finished\n",
      "about to do symbol_to_OFDMframes encoding\n",
      "symbol_to_OFDMframes encoding finished\n"
     ]
    }
   ],
   "source": [
    "import numpy as np\n",
    "from QAM_EncoderDecoder import * \n",
    "import commpy\n",
    "\n",
    "N = 1024\n",
    "prefix_no = 32\n",
    "Fs = 441000\n",
    "filename='input.png'\n",
    "bits=file_to_bitstr(filename)\n",
    "symbols = encode_bitstr2symbols(bits)\n",
    "frames = symbol_to_OFDMframes(symbols,N,prefix_no)\n",
    "frames = np.ndarray.flatten(np.array(frames))\n"
   ]
  },
  {
   "cell_type": "markdown",
   "metadata": {},
   "source": [
    "Generate Baseband Signal with root raised cosine pulse with scikit-commpy package\n",
    "\n",
    "``commpy.filters.rrcosfilter``\n",
    "\n",
    "https://commpy.readthedocs.io/en/latest/generated/commpy.filters.rrcosfilter.html\n",
    "\n",
    "\n",
    "- N (int) – Length of the filter in samples.\n",
    "- alpha (float) – Roll off factor (Valid values are [0, 1]).\n",
    "- Ts (float) – Symbol period in seconds.\n",
    "- Fs (float) – Sampling Rate in Hz."
   ]
  },
  {
   "cell_type": "code",
   "execution_count": 10,
   "metadata": {},
   "outputs": [
    {
     "data": {
      "text/plain": [
       "(924,)"
      ]
     },
     "execution_count": 10,
     "metadata": {},
     "output_type": "execute_result"
    }
   ],
   "source": [
    "alpha = 0.5\n",
    "Ts = 48 / Fs\n",
    "pulse = np.array(commpy.filters.rrcosfilter(N, alpha, Ts, Fs)[1][100:])\n",
    "pulse.shape\n"
   ]
  },
  {
   "cell_type": "code",
   "execution_count": 11,
   "metadata": {},
   "outputs": [
    {
     "name": "stdout",
     "output_type": "stream",
     "text": [
      "(924,) (671616,)\n"
     ]
    },
    {
     "data": {
      "text/plain": [
       "array([ 1.00639876e-04+0.j,  2.01911848e-04+0.j,  4.12421248e-04+0.j, ...,\n",
       "       -1.87659287e-04+0.j, -1.30558501e-04+0.j, -6.41214674e-05+0.j])"
      ]
     },
     "execution_count": 11,
     "metadata": {},
     "output_type": "execute_result"
    }
   ],
   "source": [
    "print(pulse.shape, np.shape(frames))\n",
    "baseband_signal = np.convolve(frames, pulse) \n",
    "baseband_signal"
   ]
  },
  {
   "cell_type": "code",
   "execution_count": 12,
   "metadata": {},
   "outputs": [
    {
     "data": {
      "text/plain": [
       "array([ 1.00639876e-04,  2.01911848e-04,  4.12421248e-04, ...,\n",
       "       -1.87659287e-04, -1.30558501e-04, -6.41214674e-05])"
      ]
     },
     "execution_count": 12,
     "metadata": {},
     "output_type": "execute_result"
    }
   ],
   "source": [
    "baseband_signal = np.real(baseband_signal)\n",
    "baseband_signal"
   ]
  },
  {
   "cell_type": "code",
   "execution_count": 13,
   "metadata": {},
   "outputs": [
    {
     "data": {
      "text/plain": [
       "672539"
      ]
     },
     "execution_count": 13,
     "metadata": {},
     "output_type": "execute_result"
    }
   ],
   "source": [
    "len(baseband_signal)"
   ]
  },
  {
   "cell_type": "code",
   "execution_count": 14,
   "metadata": {},
   "outputs": [],
   "source": [
    "from scipy.io.wavfile import write, read\n",
    "\n",
    "fs = 44100  # Sample rate\n",
    "# Save the numpy as wav audio file\n",
    "write('ofdmbaseband_channel_input.wav', fs, baseband_signal)"
   ]
  },
  {
   "cell_type": "code",
   "execution_count": null,
   "metadata": {},
   "outputs": [],
   "source": []
  },
  {
   "cell_type": "markdown",
   "metadata": {},
   "source": [
    "### Receiver: Low pass + Matched filtering "
   ]
  },
  {
   "cell_type": "code",
   "execution_count": null,
   "metadata": {},
   "outputs": [],
   "source": []
  },
  {
   "cell_type": "code",
   "execution_count": null,
   "metadata": {},
   "outputs": [],
   "source": []
  },
  {
   "cell_type": "code",
   "execution_count": null,
   "metadata": {},
   "outputs": [],
   "source": []
  },
  {
   "cell_type": "code",
   "execution_count": null,
   "metadata": {},
   "outputs": [],
   "source": []
  },
  {
   "cell_type": "code",
   "execution_count": null,
   "metadata": {},
   "outputs": [],
   "source": []
  }
 ],
 "metadata": {
  "kernelspec": {
   "display_name": "Python 3",
   "language": "python",
   "name": "python3"
  },
  "language_info": {
   "codemirror_mode": {
    "name": "ipython",
    "version": 3
   },
   "file_extension": ".py",
   "mimetype": "text/x-python",
   "name": "python",
   "nbconvert_exporter": "python",
   "pygments_lexer": "ipython3",
   "version": "3.8.3"
  }
 },
 "nbformat": 4,
 "nbformat_minor": 2
}
