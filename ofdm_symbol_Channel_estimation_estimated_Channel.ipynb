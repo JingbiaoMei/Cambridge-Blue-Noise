{
 "cells": [
  {
   "cell_type": "code",
   "execution_count": 11,
   "metadata": {},
   "outputs": [],
   "source": [
    "import numpy as np\n",
    "from QAM_EncoderDecoder import * \n",
    "import commpy\n",
    "from scipy.io.wavfile import write, read\n",
    "import matplotlib.pyplot as plt\n",
    "%matplotlib inline\n",
    "\n",
    "N = 1024\n",
    "prefix_no = 32\n",
    "fs = 441000"
   ]
  },
  {
   "cell_type": "markdown",
   "metadata": {},
   "source": [
    "## 1. Generate random symbols"
   ]
  },
  {
   "cell_type": "code",
   "execution_count": 12,
   "metadata": {},
   "outputs": [
    {
     "data": {
      "text/plain": [
       "array([24,  3, 50, 88, 61, 59, 72, 13,  3, 73, 50, 93])"
      ]
     },
     "execution_count": 12,
     "metadata": {},
     "output_type": "execute_result"
    }
   ],
   "source": [
    "random_symbol = np.random.randint(0,100, int(50/4))\n",
    "random_symbol"
   ]
  },
  {
   "cell_type": "code",
   "execution_count": 13,
   "metadata": {},
   "outputs": [
    {
     "data": {
      "text/plain": [
       "'000110000000001100110010010110000011110100111011010010000000110100000011010010010011001001011101'"
      ]
     },
     "execution_count": 13,
     "metadata": {},
     "output_type": "execute_result"
    }
   ],
   "source": [
    "bin_strings=''\n",
    "for byte in random_symbol:\n",
    "    binary_string = '{0:08b}'.format(byte)\n",
    "    bin_strings+=binary_string\n",
    "bin_strings"
   ]
  },
  {
   "cell_type": "code",
   "execution_count": 14,
   "metadata": {},
   "outputs": [
    {
     "name": "stdout",
     "output_type": "stream",
     "text": [
      "about to do encode_bitstr2symbols encoding\n",
      "encode_bitstr2symbols encoding finished\n"
     ]
    },
    {
     "data": {
      "text/plain": [
       "48"
      ]
     },
     "execution_count": 14,
     "metadata": {},
     "output_type": "execute_result"
    }
   ],
   "source": [
    "symbols = encode_bitstr2symbols(bin_strings)\n",
    "len(symbols)"
   ]
  },
  {
   "cell_type": "code",
   "execution_count": 15,
   "metadata": {},
   "outputs": [
    {
     "data": {
      "text/plain": [
       "(48,)"
      ]
     },
     "execution_count": 15,
     "metadata": {},
     "output_type": "execute_result"
    }
   ],
   "source": [
    "frames = np.fft.ifft(symbols)\n",
    "frames.shape"
   ]
  },
  {
   "cell_type": "code",
   "execution_count": 16,
   "metadata": {},
   "outputs": [
    {
     "data": {
      "text/plain": [
       "array([ 1.25000000e-01+0.29166667j,  6.25640583e-02+0.06517797j,\n",
       "       -1.34521946e-01+0.15652071j, -4.01169865e-02+0.10513899j,\n",
       "       -1.15331216e-01+0.19158651j, -8.05417813e-02+0.00759327j,\n",
       "       -2.94627825e-02+0.07112945j,  2.16679914e-01+0.05353657j,\n",
       "       -2.44417725e-01-0.02083333j,  2.99980079e-01-0.00498269j,\n",
       "        1.43886316e-01+0.14030114j, -1.92441362e-01-0.18465157j,\n",
       "       -8.33333333e-02+0.33333333j,  8.69264335e-02-0.08193275j,\n",
       "        7.30644609e-03-0.01175263j,  3.71199103e-02+0.07773414j,\n",
       "       -3.05421959e-01+0.10416667j,  3.46732200e-01+0.08082219j,\n",
       "        3.72906145e-01+0.04672168j,  1.20711086e-01-0.16529734j,\n",
       "       -2.59668784e-01-0.02491984j, -2.14360894e-02-0.33187037j,\n",
       "       -3.53995550e-02-0.08094507j,  1.21097892e-01-0.00893414j,\n",
       "        2.91666667e-01+0.04166667j, -1.40421973e-02+0.11590808j,\n",
       "        2.06864956e-02-0.18702282j, -5.33263755e-02-0.08073122j,\n",
       "        1.76335450e-01-0.13058227j,  9.66245144e-02-0.00328391j,\n",
       "        2.94627825e-02+0.01220388j,  7.82415871e-02+0.10314172j,\n",
       "        5.54219591e-02+0.10416667j, -3.98700508e-02+0.09842605j,\n",
       "       -1.13384199e-01-0.02646569j,  1.66248601e-01+0.04670202j,\n",
       "       -1.85037171e-17+0.33333333j, -1.13119195e-01-0.01581997j,\n",
       "        1.89862338e-01+0.18659232j,  2.22990118e-01+0.06452475j,\n",
       "       -1.72248942e-01-0.02083333j, -5.18106994e-02-0.00179821j,\n",
       "       -3.95728112e-02-0.13005501j, -1.04628353e-01-0.07471428j,\n",
       "        3.19978830e-02-0.20275106j, -7.20072725e-02+0.07176034j,\n",
       "        8.82307714e-02-0.17722795j, -7.25760307e-02+0.06355035j])"
      ]
     },
     "execution_count": 16,
     "metadata": {},
     "output_type": "execute_result"
    }
   ],
   "source": [
    "frames"
   ]
  },
  {
   "cell_type": "markdown",
   "metadata": {},
   "source": [
    "##  2 Convolv with a simple channel:\n"
   ]
  },
  {
   "cell_type": "code",
   "execution_count": 17,
   "metadata": {},
   "outputs": [
    {
     "data": {
      "text/plain": [
       "[<matplotlib.lines.Line2D at 0x2a1ef64cf88>]"
      ]
     },
     "execution_count": 17,
     "metadata": {},
     "output_type": "execute_result"
    },
    {
     "data": {
      "image/png": "[encoded data removed]",
      "text/plain": [
       "<Figure size 432x288 with 1 Axes>"
      ]
     },
     "metadata": {
      "needs_background": "light"
     },
     "output_type": "display_data"
    }
   ],
   "source": [
    "sim_channel = np.array([0.5, 0.25, 0.0, 0.25])\n",
    "plt.plot(sim_channel)"
   ]
  },
  {
   "cell_type": "code",
   "execution_count": 18,
   "metadata": {},
   "outputs": [
    {
     "data": {
      "text/plain": [
       "[<matplotlib.lines.Line2D at 0x2a1ef6c35c8>]"
      ]
     },
     "execution_count": 18,
     "metadata": {},
     "output_type": "execute_result"
    },
    {
     "data": {
      "image/png": "[encoded data removed]",
      "text/plain": [
       "<Figure size 432x288 with 1 Axes>"
      ]
     },
     "metadata": {
      "needs_background": "light"
     },
     "output_type": "display_data"
    }
   ],
   "source": [
    "chan_fft = np.fft.fft(sim_channel, 1024)\n",
    "chan_fft /= np.linalg.norm(chan_fft)\n",
    "plt.plot(np.linspace(0,fs/2,int(N/2)),np.abs(chan_fft)[0:int(N/2)])"
   ]
  },
  {
   "cell_type": "code",
   "execution_count": 19,
   "metadata": {},
   "outputs": [
    {
     "data": {
      "text/plain": [
       "(48,)"
      ]
     },
     "execution_count": 19,
     "metadata": {},
     "output_type": "execute_result"
    }
   ],
   "source": [
    "frames.shape"
   ]
  },
  {
   "cell_type": "code",
   "execution_count": 20,
   "metadata": {},
   "outputs": [],
   "source": [
    "channel_out = np.convolve(frames, sim_channel)"
   ]
  },
  {
   "cell_type": "code",
   "execution_count": 21,
   "metadata": {},
   "outputs": [
    {
     "data": {
      "text/plain": [
       "(51,)"
      ]
     },
     "execution_count": 21,
     "metadata": {},
     "output_type": "execute_result"
    }
   ],
   "source": [
    "channel_out.shape"
   ]
  },
  {
   "cell_type": "code",
   "execution_count": 22,
   "metadata": {},
   "outputs": [
    {
     "name": "stderr",
     "output_type": "stream",
     "text": [
      "C:\\Users\\11kir\\Anaconda3\\lib\\site-packages\\numpy\\core\\_asarray.py:102: ComplexWarning: Casting complex values to real discards the imaginary part\n",
      "  return array(a, dtype, copy=False, order=order)\n"
     ]
    },
    {
     "data": {
      "text/plain": [
       "[<matplotlib.lines.Line2D at 0x2a1ef721788>]"
      ]
     },
     "execution_count": 22,
     "metadata": {},
     "output_type": "execute_result"
    },
    {
     "data": {
      "image/png": "[encoded data removed]",
      "text/plain": [
       "<Figure size 432x288 with 1 Axes>"
      ]
     },
     "metadata": {
      "needs_background": "light"
     },
     "output_type": "display_data"
    }
   ],
   "source": [
    "plt.plot(channel_out)"
   ]
  },
  {
   "cell_type": "code",
   "execution_count": 23,
   "metadata": {},
   "outputs": [
    {
     "name": "stderr",
     "output_type": "stream",
     "text": [
      "C:\\Users\\11kir\\Anaconda3\\lib\\site-packages\\numpy\\core\\_asarray.py:102: ComplexWarning: Casting complex values to real discards the imaginary part\n",
      "  return array(a, dtype, copy=False, order=order)\n"
     ]
    },
    {
     "data": {
      "text/plain": [
       "[<matplotlib.lines.Line2D at 0x2a1ef78fd48>]"
      ]
     },
     "execution_count": 23,
     "metadata": {},
     "output_type": "execute_result"
    },
    {
     "data": {
      "image/png": "[encoded data removed]",
      "text/plain": [
       "<Figure size 432x288 with 1 Axes>"
      ]
     },
     "metadata": {
      "needs_background": "light"
     },
     "output_type": "display_data"
    }
   ],
   "source": [
    "plt.plot(frames)"
   ]
  },
  {
   "cell_type": "markdown",
   "metadata": {},
   "source": [
    "## 3. Decode the received audio"
   ]
  },
  {
   "cell_type": "code",
   "execution_count": 24,
   "metadata": {},
   "outputs": [
    {
     "data": {
      "text/plain": [
       "(48,)"
      ]
     },
     "execution_count": 24,
     "metadata": {},
     "output_type": "execute_result"
    }
   ],
   "source": [
    "recorded = channel_out[0:48]\n",
    "recorded.shape"
   ]
  },
  {
   "cell_type": "code",
   "execution_count": 25,
   "metadata": {},
   "outputs": [],
   "source": [
    "recorded_frequency = np.fft.fft(recorded)"
   ]
  },
  {
   "cell_type": "markdown",
   "metadata": {},
   "source": []
  },
  {
   "cell_type": "code",
   "execution_count": 26,
   "metadata": {},
   "outputs": [
    {
     "data": {
      "text/plain": [
       "array([ 1.01341193-0.01882021j,  0.95856275-0.14150788j,\n",
       "        0.93937271-0.22851941j,  0.83954176-0.34805797j,\n",
       "        0.72971882-0.39629728j,  0.61670846-0.4040877j ,\n",
       "        0.51547305-0.37407121j,  0.40369182-0.27371104j,\n",
       "        0.39515793-0.23700532j,  0.34145795-0.113967j  ,\n",
       "        0.41453314-0.08767686j,  0.46250175+0.01312448j,\n",
       "        0.4709044 -0.03321321j,  0.52941992-0.05281106j,\n",
       "        0.65109227-0.02684244j,  0.67409159-0.18043219j,\n",
       "        0.66350551-0.26823354j,  0.54192339-0.23549032j,\n",
       "        0.46622798-0.28836508j,  0.32593395-0.41242167j,\n",
       "        0.30690989-0.45181666j,  0.15694993-0.24550607j,\n",
       "        0.16583155-0.23299478j,  0.02121435-0.04282114j,\n",
       "       -0.08518489+0.00883736j,  0.0036531 +0.04514125j,\n",
       "        0.16120122+0.21577589j,  0.14030795+0.25242498j,\n",
       "        0.24425532+0.30735387j,  0.3533217 +0.32312665j,\n",
       "        0.54718649+0.40526549j,  0.53573267+0.34267569j,\n",
       "        0.57655979+0.1820935j ,  0.58871465+0.109126j  ,\n",
       "        0.5688151 +0.04604738j,  0.60172453+0.02903578j,\n",
       "        0.4931537 +0.03315147j,  0.40998761+0.01399322j,\n",
       "        0.38828079+0.04422227j,  0.36552014+0.14930499j,\n",
       "        0.36715666+0.21722996j,  0.42347047+0.29447626j,\n",
       "        0.50257773+0.35102462j,  0.60787089+0.38967297j,\n",
       "        0.70828784+0.36549765j,  0.81533348+0.31507241j,\n",
       "        0.90545675+0.25570926j,  0.96205087+0.11495124j])"
      ]
     },
     "execution_count": 26,
     "metadata": {},
     "output_type": "execute_result"
    }
   ],
   "source": [
    "freq_response = recorded_frequency / np.array(symbols)\n",
    "freq_response"
   ]
  },
  {
   "cell_type": "code",
   "execution_count": 27,
   "metadata": {},
   "outputs": [
    {
     "data": {
      "text/plain": [
       "array([ 4.95616071e-01-5.63198738e-03j,  2.52746110e-01+4.97664199e-03j,\n",
       "        5.61754422e-03-2.83519639e-03j,  2.41422334e-01-7.89991558e-05j,\n",
       "        8.59978439e-03+3.22624199e-03j, -6.69507758e-03+1.51372688e-03j,\n",
       "        2.88417831e-03+1.46307893e-03j, -3.70636003e-03+1.06738068e-04j,\n",
       "       -1.55496754e-03+3.61650690e-03j,  3.92115369e-03-8.55556498e-03j,\n",
       "       -2.15164866e-03+6.25386772e-04j,  1.77328798e-03+6.10644818e-03j,\n",
       "       -4.50065748e-03-1.19057591e-02j,  8.69863674e-03+1.06245340e-03j,\n",
       "       -5.04839485e-03+3.57012926e-03j, -5.83923871e-04-5.65255757e-03j,\n",
       "        1.04159600e-03-1.47693060e-03j,  2.22369177e-04-1.38701049e-03j,\n",
       "        1.42340846e-03+7.66709253e-04j,  1.63771966e-03-2.34487999e-03j,\n",
       "        4.42747660e-03+1.13708610e-03j, -3.53325383e-03+4.08950272e-03j,\n",
       "        4.97382285e-03+7.42291992e-04j, -6.42805570e-03-2.30564951e-03j,\n",
       "        8.96249998e-03-3.18664879e-03j, -1.00212321e-03+4.09423663e-03j,\n",
       "        1.51083586e-03+1.95092368e-03j,  4.99255984e-03+3.80255004e-03j,\n",
       "       -1.10652878e-02+1.72287841e-03j,  9.73103979e-03-1.90067780e-03j,\n",
       "       -1.20171814e-03-4.01170867e-03j,  4.22995078e-03+1.99187036e-03j,\n",
       "       -6.30342604e-03+8.46981808e-03j,  7.53571089e-03-1.11376358e-02j,\n",
       "       -1.95474376e-03+3.24968643e-03j,  2.33511534e-03-9.57328000e-04j,\n",
       "       -9.75817152e-03-3.54413851e-03j,  9.38821231e-03+8.47503948e-03j,\n",
       "       -5.14478805e-03-1.36310805e-02j,  6.74805568e-03+2.95505641e-03j,\n",
       "       -7.29297295e-03+8.68539795e-03j,  8.00564487e-03-1.26147010e-02j,\n",
       "       -4.99112050e-03+6.73407990e-03j,  1.85708798e-03-8.50134231e-04j,\n",
       "       -5.10065747e-03-3.62361027e-03j,  2.22195166e-03-1.09272572e-03j,\n",
       "       -4.87513781e-03-1.10457886e-03j,  3.78026384e-03-4.12518235e-03j])"
      ]
     },
     "execution_count": 27,
     "metadata": {},
     "output_type": "execute_result"
    }
   ],
   "source": [
    "impulse_channel = np.fft.ifft(freq_response)\n",
    "impulse_channel"
   ]
  },
  {
   "cell_type": "code",
   "execution_count": 28,
   "metadata": {},
   "outputs": [
    {
     "data": {
      "text/plain": [
       "array([0.49561607-5.63198738e-03j, 0.25274611+4.97664199e-03j,\n",
       "       0.00561754-2.83519639e-03j, 0.24142233-7.89991558e-05j])"
      ]
     },
     "execution_count": 28,
     "metadata": {},
     "output_type": "execute_result"
    }
   ],
   "source": [
    "impulse_channel[0:4]"
   ]
  },
  {
   "cell_type": "code",
   "execution_count": 29,
   "metadata": {},
   "outputs": [
    {
     "name": "stdout",
     "output_type": "stream",
     "text": [
      "0.49564806939608974 0.2527951014429727 0.006292467055109227 0.24142234659405065\n"
     ]
    }
   ],
   "source": [
    "print(np.linalg.norm(impulse_channel[0]),np.linalg.norm(impulse_channel[1]), np.linalg.norm(impulse_channel[2]), np.linalg.norm(impulse_channel[3]))"
   ]
  },
  {
   "cell_type": "code",
   "execution_count": 30,
   "metadata": {},
   "outputs": [
    {
     "data": {
      "text/plain": [
       "array([0.5 , 0.25, 0.  , 0.25])"
      ]
     },
     "execution_count": 30,
     "metadata": {},
     "output_type": "execute_result"
    }
   ],
   "source": [
    "sim_channel"
   ]
  },
  {
   "cell_type": "code",
   "execution_count": null,
   "metadata": {},
   "outputs": [],
   "source": []
  }
 ],
 "metadata": {
  "kernelspec": {
   "display_name": "Python 3",
   "language": "python",
   "name": "python3"
  },
  "language_info": {
   "codemirror_mode": {
    "name": "ipython",
    "version": 3
   },
   "file_extension": ".py",
   "mimetype": "text/x-python",
   "name": "python",
   "nbconvert_exporter": "python",
   "pygments_lexer": "ipython3",
   "version": "3.7.4"
  }
 },
 "nbformat": 4,
 "nbformat_minor": 2
}
